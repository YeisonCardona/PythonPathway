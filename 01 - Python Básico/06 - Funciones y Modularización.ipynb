{
 "cells": [
  {
   "cell_type": "markdown",
   "id": "648c0656-612c-4e3d-a370-124baa73676d",
   "metadata": {},
   "source": [
    "# Funciones y Modularización en Python"
   ]
  },
  {
   "cell_type": "markdown",
   "id": "0937a109-f347-458d-9de6-3138477cde61",
   "metadata": {},
   "source": [
    "### 1. Introducción a las Funciones\n",
    "Las funciones son bloques de código diseñados para realizar una tarea específica. Son fundamentales para la programación modular y para tener código reutilizable."
   ]
  },
  {
   "cell_type": "markdown",
   "id": "af9b3125-c640-4f6a-bd4a-cb868d3c61b8",
   "metadata": {},
   "source": [
    "### 2. Definición y Llamada de Funciones\n",
    "\n",
    "En Python, las funciones se definen con la palabra clave `def` seguida del nombre de la función y paréntesis ().\n",
    "\n",
    "```python\n",
    "def saludar():\n",
    "    print(\"¡Hola, Mundo!\")\n",
    "```\n",
    "\n",
    "Llamar a la función es tan simple como usar su nombre seguido de paréntesis:\n",
    "\n",
    "```python\n",
    "saludar()  # Salida: ¡Hola, Mundo!\n",
    "```"
   ]
  },
  {
   "cell_type": "markdown",
   "id": "cdbfd827-c434-40d5-8dd6-bc263316d14e",
   "metadata": {},
   "source": [
    "### 3. Parámetros y Argumentos\n",
    "\n",
    "Los parámetros son los nombres que se especifican en la definición de una función, mientras que los argumentos son los valores que se pasan cuando se llama a la función.\n",
    "\n",
    "```python\n",
    "def saludar(nombre):\n",
    "    print(f\"¡Hola, {nombre}!\")\n",
    "```\n",
    "\n",
    "```python\n",
    "saludar(\"Alicia\")  # Salida: ¡Hola, Alicia!\n",
    "```\n",
    "\n",
    "#### Parámetros con * y **\n",
    "\n",
    "En Python, es posible que una función reciba un número variable de argumentos. Si anteponemos un `*` al nombre de un parámetro, este aceptará una tupla de argumentos:\n",
    "\n",
    "```python\n",
    "def imprimir_multiples(*args):\n",
    "    for arg in args:\n",
    "        print(arg)\n",
    "```\n",
    "\n",
    "```python\n",
    "imprimir_multiples(1, 'hola', True, 3.5)  \n",
    "# Salida:\n",
    "# 1\n",
    "# hola\n",
    "# True\n",
    "# 3.5\n",
    "```\n",
    "\n",
    "Si anteponemos `**` al nombre de un parámetro, este aceptará un diccionario de argumentos con nombres (clave-valor):\n",
    "\n",
    "```python\n",
    "def imprimir_clave_valor(**kwargs):\n",
    "    for clave, valor in kwargs.items():\n",
    "        print(f\"{clave}: {valor}\")\n",
    "```\n",
    "\n",
    "```python\n",
    "imprimir_clave_valor(nombre=\"Carlos\", edad=30, pais=\"España\")  \n",
    "# Salida:\n",
    "# nombre: Carlos\n",
    "# edad: 30\n",
    "# pais: España\n",
    "```\n"
   ]
  },
  {
   "cell_type": "markdown",
   "id": "2f1ebf15-02f4-4191-add5-d04b04e97d30",
   "metadata": {},
   "source": [
    "### 4. Valores de Retorno\n",
    "\n",
    "Las funciones pueden devolver valores usando la instrucción `return`.\n",
    "\n",
    "```python\n",
    "def sumar(x, y):\n",
    "    return x + y\n",
    "```\n",
    "\n",
    "```python\n",
    "resultado = sumar(3, 4)\n",
    "print(resultado)  # Salida: 7\n",
    "```"
   ]
  },
  {
   "cell_type": "markdown",
   "id": "6061c759-4dff-4aed-be03-a60ffdb08ec8",
   "metadata": {},
   "source": [
    "### 5. Ámbito de las Variables\n",
    "\n",
    "Las variables definidas dentro de una función tienen un ámbito local y no son accesibles fuera de ella.\n",
    "\n",
    "```python\n",
    "def mostrar_mensaje():\n",
    "    mensaje = \"Variable Local\"\n",
    "    print(mensaje)\n",
    "```\n",
    "\n",
    "```python\n",
    "mostrar_mensaje()  # Salida: Variable Local\n",
    "# print(mensaje)  # Esto generará un error ya que \"mensaje\" es una variable local.\n",
    "```"
   ]
  },
  {
   "cell_type": "markdown",
   "id": "33bd96cf-ceaa-44fe-ae77-68a69701ad8a",
   "metadata": {},
   "source": [
    "### 6. Documentación de Funciones\n",
    "\n",
    "Las funciones en Python pueden (y deben) tener una \"docstring\" para describir su propósito.\n",
    "\n",
    "```python\n",
    "def cuadrado(num):\n",
    "    \"\"\"Devuelve el cuadrado de un número.\"\"\"\n",
    "    return num * num\n",
    "```\n",
    "\n",
    "```python\n",
    "help(cuadrado)\n",
    "```"
   ]
  },
  {
   "cell_type": "markdown",
   "id": "ca700c20-097b-407f-9590-dfde9dfc2c08",
   "metadata": {},
   "source": [
    "### 7. Funciones como Objetos y Argumentos\n",
    "\n",
    "Las funciones en Python son objetos de primera clase, lo que significa que pueden ser pasadas como argumentos a otras funciones.\n",
    "\n",
    "```python\n",
    "def aplicar_funcion(func, valor):\n",
    "    return func(valor)\n",
    "```\n",
    "\n",
    "```python\n",
    "aplicar_funcion(cuadrado, 4)  # Salida: 16\n",
    "```"
   ]
  },
  {
   "cell_type": "markdown",
   "id": "4e21f5d5-74d9-41d4-ae96-e0663d82326e",
   "metadata": {},
   "source": [
    "### 8. Funciones Lambda\n",
    "\n",
    "Son funciones anónimas de una sola línea definidas con la palabra clave `lambda`.\n",
    "\n",
    "```python\n",
    "doble = lambda x: x * 2\n",
    "```\n",
    "\n",
    "```python\n",
    "print(doble(5))  # Salida: 10\n",
    "```"
   ]
  },
  {
   "cell_type": "markdown",
   "id": "3cdbe361-a416-43bd-ba46-0f0003fdd1af",
   "metadata": {},
   "source": [
    "### 9. Modularización en Python\n",
    "\n",
    "En Python, los módulos son archivos .py que contienen definiciones y declaraciones de funciones. Los módulos se usan para organizar el código.\n",
    "\n",
    "```python\n",
    "# Asumiendo que existe un módulo llamado 'modulo_matematico.py' con una función 'sumar()'\n",
    "from modulo_matematico import sumar\n",
    "\n",
    "print(sumar(3, 5))  # Salida: 8\n",
    "```"
   ]
  },
  {
   "cell_type": "markdown",
   "id": "55217add-226c-4b71-8ef2-3aa37d4e0d8d",
   "metadata": {},
   "source": [
    "### 10. Resumen\n",
    "\n",
    "En este capítulo, exploramos las funciones en Python, cómo definirlas, llamarlas, pasar y recibir datos de ellas, y cómo modularizar nuestro código para mantenerlo organizado y reutilizable."
   ]
  },
  {
   "cell_type": "markdown",
   "id": "8dea3ca0-5e64-47b9-9939-bac5780d41db",
   "metadata": {},
   "source": [
    "----\n",
    "\n",
    "## Ejercicios Propuestos\n",
    "\n",
    "1. **Saludo Personalizado:**\n",
    "    - Escribe una función llamada `saludar` que reciba un nombre.\n",
    "    - La función debe retornar el string: \"Hola, [nombre]!\". \n",
    "    - Prueba la función con el nombre \"Luis\". Debería retornar \"Hola, Luis!\".\n",
    "\n",
    "2. **Suma de Números:**\n",
    "    - Escribe una función llamada `suma` que reciba dos números.\n",
    "    - La función debe retornar la suma de ambos números.\n",
    "    - Prueba la función con los números 5 y 3. Debería retornar 8.\n",
    "\n",
    "3. **Sumando Múltiples Números:**\n",
    "    - Escribe una función `multi_suma` que acepte un número variable de argumentos.\n",
    "    - La función debe retornar la suma de todos los argumentos proporcionados.\n",
    "    - Prueba la función con los números 5, 3, 8 y 2. Debería retornar 18.\n",
    "\n",
    "4. **Impresión de Datos Personales:**\n",
    "    - Escribe una función `imprimir_datos` que reciba argumentos con nombres (usando **kwargs).\n",
    "    - La función debe imprimir los argumentos en el formato \"clave: valor\".\n",
    "    - Prueba la función con los argumentos \"nombre=Luis\" y \"edad=30\". Debería imprimir \"nombre: Luis\" y \"edad: 30\".\n",
    "\n",
    "5. **Potenciación de Números:**\n",
    "    - Escribe una función llamada `potencia` que reciba un número como base.\n",
    "    - La función puede recibir un segundo número como exponente. Si no se proporciona el exponente, este debe ser 2 por defecto.\n",
    "    - La función debe retornar la base elevada al exponente.\n",
    "    - Prueba la función con la base 5 y el exponente 3. Debería retornar 125. También pruébala solo con la base 5. Debería retornar 25."
   ]
  }
 ],
 "metadata": {
  "kernelspec": {
   "display_name": "Python 3 (ipykernel)",
   "language": "python",
   "name": "python3"
  },
  "language_info": {
   "codemirror_mode": {
    "name": "ipython",
    "version": 3
   },
   "file_extension": ".py",
   "mimetype": "text/x-python",
   "name": "python",
   "nbconvert_exporter": "python",
   "pygments_lexer": "ipython3",
   "version": "3.11.5"
  }
 },
 "nbformat": 4,
 "nbformat_minor": 5
}
