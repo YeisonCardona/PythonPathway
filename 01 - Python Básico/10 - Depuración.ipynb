{
 "cells": [
  {
   "cell_type": "markdown",
   "id": "d60db55f-c6a6-4a71-a7b1-652a343dd5e6",
   "metadata": {},
   "source": [
    "# Depuración"
   ]
  },
  {
   "cell_type": "markdown",
   "id": "3d12f050-f13c-4b76-a46b-b9b375bf1e23",
   "metadata": {},
   "source": [
    "<div style=\"padding: 15px; border: 1px solid transparent; border-color: transparent; margin-bottom: 20px; border-radius: 4px; color: #31708f; background-color: #d9edf7; border-color: #bce8f1;\">\n",
    "“Si la depuración es el proceso de eliminar errores, entonces la programación debe ser el proceso de introducirlos”\n",
    "― Edsger Dijkstra</div>"
   ]
  },
  {
   "cell_type": "markdown",
   "id": "095f75cf-ef5c-4433-9189-1d1519c85f46",
   "metadata": {},
   "source": [
    "## 1. Introducción\n",
    "La depuración es el proceso de identificar y corregir errores o anomalías en el código. Python ofrece herramientas integradas para ayudar en esta tarea."
   ]
  },
  {
   "cell_type": "markdown",
   "id": "e4eff4f4-7fca-463a-8a65-d44230f556f7",
   "metadata": {},
   "source": [
    "## 2. Print Debugging\n",
    "Una técnica simple pero efectiva. Consiste en insertar declaraciones `print` en el código para rastrear el flujo de ejecución y el valor de las variables.\n",
    "```python\n",
    "valor = 5\n",
    "print(\"El valor es:\", valor)\n",
    "```"
   ]
  },
  {
   "cell_type": "markdown",
   "id": "e6d983aa-b889-4b29-a0bc-689046cb9e8f",
   "metadata": {},
   "source": [
    "## 3. Uso del Módulo `pdb`\n",
    "El módulo `pdb` es el depurador interactivo de Python. Con él, puedes establecer puntos de interrupción, avanzar paso a paso, inspeccionar variables y más.\n",
    "### Estableciendo puntos de interrupción\n",
    "Con la función `breakpoint()` (en Python 3.7+), o `pdb.set_trace()`.\n",
    "```python\n",
    "for i in range(5):\n",
    "    breakpoint() # o pdb.set_trace()\n",
    "    print(i)\n",
    "```\n",
    "### Comandos Básicos de `pdb`\n",
    "Explicación de comandos como `c` (continuar), `n` (siguiente línea), `l` (listar código), `p` (imprimir valor), entre otros."
   ]
  },
  {
   "cell_type": "markdown",
   "id": "8391d60f-54f0-4feb-80f6-f41a9ea9187f",
   "metadata": {},
   "source": [
    "## 4. Depuración en IDEs\n",
    "Muchos entornos de desarrollo integrado, como PyCharm o VSCode, tienen depuradores integrados que ofrecen una interfaz gráfica para la depuración. Breve explicación de cómo utilizar estas herramientas."
   ]
  },
  {
   "cell_type": "markdown",
   "id": "88041593-0cd9-42c1-8c30-d0fc9cb6ac23",
   "metadata": {},
   "source": [
    "## 5. Depuración Post-mortem\n",
    "Usar `pdb.post_mortem()` para inspeccionar el estado en el momento de una excepción.\n",
    "```python\n",
    "try:\n",
    "    x = 1 / 0\n",
    "except ZeroDivisionError:\n",
    "    pdb.post_mortem()\n",
    "```"
   ]
  },
  {
   "cell_type": "markdown",
   "id": "32d92801-a7cc-4299-a119-537fced88c73",
   "metadata": {},
   "source": [
    "## 6. Profiling: Midiendo el rendimiento\n",
    "El \"profiling\" se refiere a la práctica de medir la eficiencia y el rendimiento de diferentes partes de un programa. Esto es crucial para identificar cuellos de botella y optimizar el código. Es el proceso de recolectar estadísticas sobre la frecuencia y duración de la ejecución de diferentes partes de un programa.\n",
    "\n",
    "### Módulo `cProfile`\n",
    "`cProfile` es uno de los principales módulos en Python para profiling. Proporciona una manera de ver qué funciones tardan más tiempo.\n",
    "```python\n",
    "import cProfile\n",
    "\n",
    "def ejemplo():\n",
    "    # algún código\n",
    "    pass\n",
    "\n",
    "cProfile.run('ejemplo()')\n",
    "```\n",
    "El resultado mostrará cuántas veces se llamó a cada función y cuánto tiempo se gastó en cada una.\n",
    "\n",
    "### Visualizando el Profiling con `pyprof2calltree`\n",
    "El profiling puede ser más fácil de interpretar con una representación visual. `pyprof2calltree` es una herramienta que convierte la salida de `cProfile` en un formato visualizable con herramientas como `kcachegrind` o `qcachegrind`.\n",
    "```bash\n",
    "pip install pyprof2calltree\n",
    "```\n",
    "\n",
    "### Line Profiler\n",
    "Mientras que `cProfile` muestra el tiempo pasado en cada función, `line_profiler` muestra el tiempo pasado en cada línea de una función. Esto puede ser extremadamente útil para encontrar exactamente dónde se está gastando el tiempo dentro de las funciones.\n",
    "```bash\n",
    "pip install line_profiler\n",
    "```\n",
    "Uso:\n",
    "```python\n",
    "from line_profiler import LineProfiler\n",
    "\n",
    "lp = LineProfiler()\n",
    "lp.add_function(ejemplo) # Añadir función específica para el profiling\n",
    "lp.runctx('ejemplo()', globals(), locals())\n",
    "lp.print_stats()\n",
    "```\n",
    "\n",
    "### Memory Profiling\n",
    "A veces, el rendimiento se ve afectado no por el tiempo de CPU, sino por el uso de la memoria. El módulo `memory_profiler` puede ayudar a identificar dónde se está utilizando más memoria en el código.\n",
    "```bash\n",
    "pip install memory-profiler\n",
    "```\n",
    "\n",
    "### Consejos para el Profiling\n",
    "- Comienza con un \"profiling\" de alto nivel para identificar las funciones problemáticas antes de centrarte en las líneas específicas.\n",
    "- No todas las optimizaciones valen la pena. A veces, optimizar una función que rara vez se llama puede no tener un impacto significativo en el rendimiento general.\n",
    "- Asegúrate de estar probando en un entorno que refleje las condiciones de producción lo más cerca posible."
   ]
  },
  {
   "cell_type": "markdown",
   "id": "4e03c5a5-0126-4972-8f8f-deebdafde45d",
   "metadata": {},
   "source": [
    "## 7. Consejos para una Depuración Efectiva\n",
    "- Comenzar por lo básico.\n",
    "- Divide y vencerás: acota el error a una sección específica del código.\n",
    "- Cambia una cosa a la vez.\n",
    "- Mantén una mentalidad abierta: el error puede no estar donde lo esperas."
   ]
  },
  {
   "cell_type": "markdown",
   "id": "912fb319-03f8-4b3a-a2b4-ed2c39f77ab4",
   "metadata": {},
   "source": [
    "## Resumen\n",
    "La depuración es esencial para el desarrollo de software. Aprender a usar efectivamente herramientas y técnicas de depuración puede ahorrar mucho tiempo y esfuerzo. Python proporciona el módulo `pdb` para la depuración interactiva, pero también es beneficioso familiarizarse con las características de depuración de tu IDE preferido."
   ]
  },
  {
   "cell_type": "markdown",
   "id": "1c42528a-0833-44eb-b91c-ff8faff8a4e2",
   "metadata": {},
   "source": [
    "----\n",
    "\n",
    "## Ejercicios Propuestos\n",
    "\n",
    "1. **Básicos de Depuración:**\n",
    "   - Crea una función que contenga al menos 2 errores de lógica (por ejemplo, sumar cuando debería restar, o retornar un tipo de dato incorrecto).\n",
    "   - Utiliza el depurador de Python para identificar y corregir estos errores.\n",
    "\n",
    "2. **Uso de `pdb`:**\n",
    "   - Toma un script de Python que hayas escrito previamente o crea uno nuevo.\n",
    "   - Inserta una instrucción `pdb.set_trace()` en algún lugar del código.\n",
    "   - Ejecuta el script y familiarízate con los comandos básicos de `pdb` como `n` (next), `c` (continue) y `q` (quit).\n",
    "\n",
    "3. **Profiling con `cProfile`:**\n",
    "   - Escribe una función que realice una tarea repetitiva, como ordenar una lista grande o calcular números Fibonacci.\n",
    "   - Utiliza `cProfile` para identificar las áreas del código que consumen más tiempo.\n",
    "\n",
    "4. **Profiling de Memoria:**\n",
    "   - Usando el módulo `memory_profiler`, investiga qué partes de tu código consumen más memoria. Si no tienes un script adecuado, crea una función que genere y almacene grandes cantidades de datos en estructuras como listas o diccionarios.\n",
    "   - Intenta optimizar la memoria identificando formas de reducir el uso de memoria en tu script.\n",
    "\n",
    "5. **Análisis con `line_profiler`:**\n",
    "   - Utilizando el módulo `line_profiler`, realiza un análisis detallado de la función que escribiste para el ejercicio 3. Intenta identificar líneas específicas de código que puedan ser optimizadas para mejorar el rendimiento.\n",
    "\n",
    "6. **Reflexión sobre Optimización:**\n",
    "   - Después de haber realizado los ejercicios anteriores, reflexiona y anota tus pensamientos sobre la importancia de la optimización frente a la claridad del código. En tu experiencia, ¿cuándo es esencial optimizar? ¿Cuándo es adecuado dejar el código \"como está\", incluso si no es óptimo en términos de rendimiento?"
   ]
  }
 ],
 "metadata": {
  "kernelspec": {
   "display_name": "Python 3 (ipykernel)",
   "language": "python",
   "name": "python3"
  },
  "language_info": {
   "codemirror_mode": {
    "name": "ipython",
    "version": 3
   },
   "file_extension": ".py",
   "mimetype": "text/x-python",
   "name": "python",
   "nbconvert_exporter": "python",
   "pygments_lexer": "ipython3",
   "version": "3.11.6"
  }
 },
 "nbformat": 4,
 "nbformat_minor": 5
}
