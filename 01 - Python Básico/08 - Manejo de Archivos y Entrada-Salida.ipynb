{
 "cells": [
  {
   "cell_type": "markdown",
   "id": "fa7c0c85-3921-4256-99ed-338c82a7a5b0",
   "metadata": {},
   "source": [
    "# Manejo de Archivos y Entrada-Salida"
   ]
  },
  {
   "cell_type": "markdown",
   "id": "b1d47738-e02a-4ea2-9c33-931107a14c09",
   "metadata": {},
   "source": [
    "## 1. Introducción\n",
    "\n",
    "El manejo de archivos es esencial en la programación, permitiendo que un programa lea y escriba datos desde y hacia archivos. En Python, trabajar con archivos es simple gracias a su conjunto de funciones integradas."
   ]
  },
  {
   "cell_type": "markdown",
   "id": "2f44df67-060a-4631-8fb7-e5e2a9bebac5",
   "metadata": {},
   "source": [
    "## 2. Abriendo y Cerrando Archivos\n",
    "\n",
    "Python ofrece la función integrada `open()` para abrir un archivo. Esta función retorna un objeto archivo que contiene métodos y atributos para realizar varias operaciones.\n",
    "\n",
    "```python\n",
    "archivo = open('mi_archivo.txt', 'r')\n",
    "archivo.close()\n",
    "```\n",
    "\n",
    "- `'r'` es el modo para leer el archivo.\n",
    "- `'w'` es el modo para escribir en el archivo.\n",
    "- `'a'` es el modo para agregar al final del archivo."
   ]
  },
  {
   "cell_type": "markdown",
   "id": "38d62763-f9c3-4c98-857e-53906fc877f6",
   "metadata": {},
   "source": [
    "## 3. Leer Archivos\n",
    "\n",
    "Para leer el contenido de un archivo, puedes usar el método `read()` del objeto archivo.\n",
    "\n",
    "```python\n",
    "archivo = open('mi_archivo.txt', 'r')\n",
    "contenido = archivo.read()\n",
    "print(contenido)\n",
    "archivo.close()\n",
    "```"
   ]
  },
  {
   "cell_type": "markdown",
   "id": "dfc5b03f-3440-4538-83c3-86b27c4e4aa3",
   "metadata": {},
   "source": [
    "## 4. Escribir en Archivos\n",
    "\n",
    "Escribir en un archivo es igual de sencillo.\n",
    "\n",
    "```python\n",
    "archivo = open('mi_archivo.txt', 'w')\n",
    "archivo.write('¡Hola, Mundo!')\n",
    "archivo.close()\n",
    "```"
   ]
  },
  {
   "cell_type": "markdown",
   "id": "d4f699f9-735d-47a8-890a-25d3f2c78856",
   "metadata": {},
   "source": [
    "## 5. Usando `with` para trabajar con Archivos\n",
    "\n",
    "El statement `with` se utiliza en Python para envolver la ejecución de un bloque de código. Garantiza que el archivo se cierre correctamente al terminar.\n",
    "\n",
    "```python\n",
    "with open('mi_archivo.txt', 'r') as archivo:\n",
    "    print(archivo.read())\n",
    "```"
   ]
  },
  {
   "cell_type": "markdown",
   "id": "c54826ef-7e05-4384-90a3-37a12a6e29fc",
   "metadata": {},
   "source": [
    "## 6. Manejando Errores al trabajar con Archivos\n",
    "\n",
    "Es importante manejar errores cuando trabajas con archivos para evitar problemas en tiempo de ejecución.\n",
    "\n",
    "```python\n",
    "try:\n",
    "    with open('archivo_no_existente.txt', 'r') as archivo:\n",
    "        print(archivo.read())\n",
    "except FileNotFoundError:\n",
    "    print('El archivo no fue encontrado.')\n",
    "```"
   ]
  },
  {
   "cell_type": "markdown",
   "id": "82c37a09-3770-42fc-ae00-483570957645",
   "metadata": {},
   "source": [
    "## 7. Entrada y Salida Estándar\n",
    "\n",
    "Python permite leer la entrada del usuario usando la función `input()` y mostrar salida usando la función `print()`.\n",
    "\n",
    "```python\n",
    "nombre = input('Introduce tu nombre: ')\n",
    "print(f'¡Hola, {nombre}!')\n",
    "```"
   ]
  },
  {
   "cell_type": "markdown",
   "id": "e0438612-4022-4d82-9968-4f09d9193866",
   "metadata": {},
   "source": [
    "## 8. Trabajando con otros formatos: JSON, XML, y más\n",
    "\n",
    "A medida que los datos se han vuelto más complejos, también lo han hecho los formatos para representarlos. Python, siendo un lenguaje versátil, proporciona módulos integrados para tratar con varios formatos populares.\n",
    "\n",
    "### JSON (JavaScript Object Notation)\n",
    "\n",
    "JSON es un formato ligero de intercambio de datos que es fácil de leer y escribir para humanos y fácil de generar y analizar para máquinas. El módulo `json` en Python permite codificar y decodificar datos en formato JSON.\n",
    "\n",
    "```python\n",
    "import json\n",
    "\n",
    "# Convertir un diccionario a JSON\n",
    "datos = {\"nombre\": \"Juan\", \"edad\": 30}\n",
    "json_str = json.dumps(datos)\n",
    "\n",
    "# Convertir una cadena JSON a diccionario\n",
    "diccionario = json.loads(json_str)\n",
    "```\n",
    "\n",
    "### XML (eXtensible Markup Language)\n",
    "\n",
    "XML es un formato de datos que se utiliza para describir datos estructurados. Python tiene el módulo `xml` que proporciona métodos para parsear y crear documentos XML.\n",
    "\n",
    "```python\n",
    "import xml.etree.ElementTree as ET\n",
    "\n",
    "data = \"\"\"\n",
    "<persona>\n",
    "  <nombre>Juan</nombre>\n",
    "  <edad>30</edad>\n",
    "</persona>\n",
    "\"\"\"\n",
    "\n",
    "root = ET.fromstring(data)\n",
    "nombre = root.find('nombre').text\n",
    "edad = root.find('edad').text\n",
    "```\n",
    "\n",
    "### HTML (HyperText Markup Language)\n",
    "\n",
    "HTML es el lenguaje de marcado estándar para crear páginas web. Para trabajar con HTML en Python, se puede usar la biblioteca Beautiful Soup, que es excelente para analizar documentos HTML y XML y extraer información de ellos.\n",
    "\n",
    "Primero, necesitarás instalar Beautiful Soup y una librería adicional para parsear el HTML, como `lxml`:\n",
    "\n",
    "```\n",
    "pip install beautifulsoup4 lxml\n",
    "```\n",
    "\n",
    "Luego, puedes usarlo de la siguiente manera:\n",
    "\n",
    "```python\n",
    "from bs4 import BeautifulSoup\n",
    "\n",
    "# Ejemplo de documento HTML\n",
    "html_doc = \"\"\"\n",
    "<html>\n",
    "  <head>\n",
    "    <title>El título de la página</title>\n",
    "  </head>\n",
    "  <body>\n",
    "    <p class=\"titulo\">Este es un párrafo.</p>\n",
    "    <a href=\"http://www.ejemplo.com\">Un enlace</a>\n",
    "  </body>\n",
    "</html>\n",
    "\"\"\"\n",
    "\n",
    "# Crear un objeto Beautiful Soup\n",
    "soup = BeautifulSoup(html_doc, 'lxml')\n",
    "\n",
    "# Extraer el título de la página\n",
    "titulo_pagina = soup.title.string\n",
    "\n",
    "# Encontrar todos los párrafos con la clase \"titulo\"\n",
    "parrafos = soup.find_all('p', class_='titulo')\n",
    "\n",
    "# Extraer el texto del primer párrafo encontrado\n",
    "texto_parrafo = parrafos[0].text if parrafos else \"\"\n",
    "\n",
    "# Encontrar todos los enlaces\n",
    "enlaces = soup.find_all('a')\n",
    "\n",
    "# Extraer el URL del primer enlace encontrado\n",
    "url_enlace = enlaces[0]['href'] if enlaces else \"\"\n",
    "```\n",
    "\n",
    "Beautiful Soup es muy poderoso y ofrece muchas más funcionalidades para navegar y modificar el árbol del documento, hacer búsquedas con criterios complejos, entre otros.\n",
    "\n",
    "\n",
    "### Otros formatos\n",
    "\n",
    "Python también ofrece soporte para otros formatos populares. Siempre es posible encontrar una biblioteca o módulo en Python para trabajar con casi cualquier formato de datos que necesites."
   ]
  },
  {
   "cell_type": "markdown",
   "id": "a675d5ce-d805-4a11-9e81-0db774831ad1",
   "metadata": {},
   "source": [
    "## 9. Resumen\n",
    "\n",
    "- El manejo de archivos es fundamental para muchas tareas de programación, permitiendo la lectura y escritura persistente de datos.\n",
    "- Python proporciona funciones integradas, como `open()`, `read()`, `write()`, y `close()`, para facilitar el trabajo con archivos.\n",
    "- Es importante manejar los errores y excepciones que pueden surgir durante las operaciones de entrada/salida.\n",
    "- Los modos de archivo (como `'r'`, `'w'`, `'a'`, `'b'`, etc.) determinan cómo se abrirá y se manipulará el archivo.\n",
    "- Los archivos en Python se deben cerrar adecuadamente después de su uso. El uso de la declaración `with` garantiza que los archivos se cierren automáticamente.\n",
    "- Además del manejo de archivos de texto plano, Python admite la manipulación de otros formatos, como JSON, XML, CSV, YAML y HTML. Bibliotecas especializadas, como `json`, `xml.etree.ElementTree`, `csv`, `PyYAML`, y `BeautifulSoup`, respectivamente, facilitan la interacción con estos formatos.\n"
   ]
  },
  {
   "cell_type": "markdown",
   "id": "7aebe62f-6417-46e0-921d-f5574cf8abe9",
   "metadata": {},
   "source": [
    "----\n",
    "\n",
    "## Ejercicios Propuestos\n",
    "\n",
    "1. **Lectura y Escritura Básica:**\n",
    "    - Crea un archivo llamado \"test.txt\" y escribe en él al menos 3 líneas de texto.\n",
    "    - Lee el archivo anterior y muestra su contenido en la consola.\n",
    "    - Añade 2 líneas adicionales al archivo sin eliminar el contenido original.\n",
    "\n",
    "2. **Manejo de JSON:**\n",
    "    - Crea un diccionario en Python con datos ficticios y guárdalo en un archivo con formato JSON.\n",
    "    - Lee el archivo JSON anterior y convierte su contenido a un diccionario de Python.\n",
    "\n",
    "3. **Trabajo con CSV:**\n",
    "    - Escribe un programa que tome una lista de diccionarios y la guarde en un archivo CSV. Por ejemplo, considera una lista que represente a varios usuarios con campos como \"nombre\", \"edad\" y \"correo\".\n",
    "    - Lee el archivo CSV anterior y conviértelo nuevamente en una lista de diccionarios.\n",
    "  \n",
    "<div style=\"padding: 15px; border: 1px solid transparent; border-color: transparent; margin-bottom: 20px; border-radius: 4px; color: #31708f; background-color: #d9edf7; border-color: #bce8f1;\">\n",
    "Recuerda revisar la documentación relevante y las bibliotecas adecuadas para cada formato cuando trabajes en estos ejercicios.\n",
    "</div>"
   ]
  }
 ],
 "metadata": {
  "kernelspec": {
   "display_name": "Python 3 (ipykernel)",
   "language": "python",
   "name": "python3"
  },
  "language_info": {
   "codemirror_mode": {
    "name": "ipython",
    "version": 3
   },
   "file_extension": ".py",
   "mimetype": "text/x-python",
   "name": "python",
   "nbconvert_exporter": "python",
   "pygments_lexer": "ipython3",
   "version": "3.11.5"
  }
 },
 "nbformat": 4,
 "nbformat_minor": 5
}
