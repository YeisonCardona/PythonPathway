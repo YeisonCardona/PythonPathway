{
 "cells": [
  {
   "cell_type": "markdown",
   "id": "586197ae-07a7-474d-8b7e-2a8aff12f197",
   "metadata": {},
   "source": [
    "# Introducción a Python"
   ]
  },
  {
   "cell_type": "markdown",
   "id": "f005bc35-9e68-458e-b24f-c09c62d8dd2a",
   "metadata": {},
   "source": [
    "## 1. ¿Qué es Python?\n",
    "Python es un lenguaje de programación interpretado, de alto nivel y de propósito general. Se destaca por su legibilidad y sintaxis limpia, lo que permite expresar conceptos en menos líneas de código que otros lenguajes."
   ]
  },
  {
   "cell_type": "markdown",
   "id": "c5921e7e-2ff2-4f9e-aefe-6f4d440c0e00",
   "metadata": {},
   "source": [
    "## 2. Instalación de Python\n",
    "\n",
    "Python está disponible en múltiples plataformas, incluyendo Windows, Mac OS X y Linux. Se puede descargar desde el [sitio oficial de Python](https://www.python.org/downloads/). Siguiendo los pasos del instalador se podrá configurar adecuadamente en el sistema.\n",
    "\n",
    "- **Windows:** Descargue e instale Python desde [python.org](https://www.python.org/downloads/).\n",
    "- **Linux:** Utilice el administrador de paquetes de su distribución, como `apt-get install python3`.\n",
    "- **MacOS:** Descargue e instale Python desde [python.org](https://www.python.org/downloads/) o use Homebrew."
   ]
  },
  {
   "cell_type": "markdown",
   "id": "60d76d0c-94a3-4da8-92a2-c5510860804f",
   "metadata": {},
   "source": [
    "<div style=\"padding: 15px; border: 1px solid transparent; border-color: transparent; margin-bottom: 20px; border-radius: 4px; color: #31708f; background-color: #d9edf7; border-color: #bce8f1;\">\n",
    "Cabe destacar que algunas distribuciones de GNU/Linux pueden incluir una versión de Python preinstalada en el sistema. Es conveniente verificar la versión instalada antes de proceder con una nueva instalación\n",
    "</div>\n",
    "\n",
    "<div style=\"padding: 15px; border: 1px solid transparent; border-color: transparent; margin-bottom: 20px; border-radius: 4px; color: #8a6d3b;; background-color: #fcf8e3; border-color: #faebcc;\">\n",
    "Es importante enfatizar que no se debe utilizar Python 2, ya que se trata de una versión obsoleta y no mantenida. Siempre se recomienda instalar y utilizar la última versión estable de Python disponible, para asegurar la compatibilidad y el acceso a las características y correcciones más recientes.\n",
    "</div> "
   ]
  },
  {
   "cell_type": "markdown",
   "id": "18003ce8-6f56-4115-9893-244e3984460d",
   "metadata": {},
   "source": [
    "## 3. Primeros Pasos con el Intérprete de Python\n",
    "\n",
    "Abra una consola o terminal y escriba `python` (o `python3` en algunos sistemas) para acceder al intérprete interactivo."
   ]
  },
  {
   "cell_type": "markdown",
   "id": "59fda778-441e-4cfe-9833-e7099347ae26",
   "metadata": {},
   "source": [
    "### Ejemplo de código simple:\n",
    "\n",
    "```python\n",
    ">>> print(\"¡Hola, Mundo!\")\n",
    "```"
   ]
  },
  {
   "cell_type": "markdown",
   "id": "5ae34b0b-5fd7-44d9-9c64-21e079b2685c",
   "metadata": {},
   "source": [
    "El prompt de Python es el entorno interactivo que se obtiene al ejecutar python o python3 en la consola o terminal. Este entorno permite escribir y ejecutar código Python en tiempo real, ofreciendo una manera rápida y eficaz de probar fragmentos de código, explorar nuevas ideas y depurar. Puedes identificar el prompt de Python por los tres símbolos mayores `>>>` que invitan a escribir una nueva línea de código."
   ]
  },
  {
   "cell_type": "markdown",
   "id": "af02f5c7-a277-4914-9101-dfbba73189d1",
   "metadata": {},
   "source": [
    "## 4. Entorno de Desarrollo Integrado (IDE)\n",
    "\n",
    "- **IDLE:** Viene con la instalación de Python, simple y fácil de usar.\n",
    "- **PyCharm:** Un IDE más avanzado con muchas características.\n",
    "- **Visual Studio Code:** Editor popular con soporte para Python mediante extensiones.\n",
    "- **JupyterLab:** Ideal para la ciencia de datos y análisis interactivo, permite la creación de cuadernos con código y visualizaciones.\n",
    "- **WingIDE:** Un IDE potente y flexible, especialmente diseñado para Python, con muchas características para el desarrollo profesional."
   ]
  },
  {
   "cell_type": "markdown",
   "id": "4c8e3458-aa4c-4f02-93f8-29509f0d410e",
   "metadata": {},
   "source": [
    "## 5. Estructura Básica de un Programa\n",
    "\n",
    "- **Comentarios:** Los comentarios en Python comienzan con el símbolo `#`. Puedes agregarlos en cualquier parte de la línea, y todo el texto a la derecha de `#` será ignorado por el intérprete de Python.\n",
    "- **Indentación:** La indentación es esencial en Python y se usa para delimitar bloques de código, como los contenidos dentro de una condición o bucle.\n",
    "\n",
    "### Ejemplo:\n",
    "\n",
    "```python\n",
    "# Esto es un comentario\n",
    "if 5 > 2: # Aquí también puedes poner un comentario\n",
    "    print(\"Cinco es mayor que dos.\") # Indentación con cuatro espacios\n",
    "```\n",
    "\n",
    "La indentación y los comentarios son fundamentales en la escritura de código Python limpio y comprensible, y son conceptos básicos que cualquier programador de Python debe conocer."
   ]
  },
  {
   "cell_type": "markdown",
   "id": "89597d0d-231f-4d13-bca9-898fda4b7780",
   "metadata": {},
   "source": [
    "<div style=\"padding: 15px; border: 1px solid transparent; border-color: transparent; margin-bottom: 20px; border-radius: 4px; color: #8a6d3b;; background-color: #fcf8e3; border-color: #faebcc;\">\n",
    "En cuanto a la indentación en Python, es fundamental mantener la coherencia en todo el código. Puedes utilizar espacios o un tabulador para indentar, pero no ambos en el mismo bloque de código. La recomendación general es utilizar cuatro espacios por nivel de indentación. Muchos entornos de desarrollo integrado (IDE) pueden configurarse para convertir automáticamente los tabuladores en espacios, asegurando así la uniformidad en todo el código. La falta de coherencia en la indentación puede llevar a errores y hacer que el código sea menos legible.\n",
    "</div> "
   ]
  },
  {
   "cell_type": "markdown",
   "id": "a8a057cb-d1bc-4e43-92aa-e3ff62686747",
   "metadata": {},
   "source": [
    "## 6. Ejecución de un Script\n",
    "\n",
    "Ejecutar un script de Python es un proceso simple pero fundamental en el desarrollo con este lenguaje. Aquí hay algunos conceptos clave:\n",
    "\n",
    "- **Creación del Script:** Un script de Python es un archivo que contiene código Python y tiene la extensión `.py`. Puedes crear un script utilizando cualquier editor de texto o IDE que soporte Python.\n",
    "\n",
    "- **Ejecución desde la Consola o Terminal:** Una vez que hayas creado y guardado tu archivo `.py`, puedes ejecutarlo utilizando la consola o terminal. Navega hasta la ubicación del archivo y ejecuta el comando `python nombre_del_archivo.py` (o `python3 nombre_del_archivo.py` en algunos sistemas).\n",
    "\n",
    "- **Argumentos de la Línea de Comandos:** Puedes pasar argumentos a tu script a través de la línea de comandos. Estos argumentos pueden ser accesados en tu script usando el módulo `sys`.\n",
    "\n",
    "- **Errores y Depuración:** Si hay errores en tu código, la consola mostrará mensajes de error que te ayudarán a identificar y corregir el problema. Muchos IDEs ofrecen herramientas de depuración para ayudarte en este proceso.\n",
    "\n",
    "### Ejemplo de Ejecución:\n",
    "\n",
    "```bash\n",
    "python mi_script.py arg1 arg2\n",
    "```\n",
    "\n",
    "Este proceso es fundamental para probar, depurar y finalmente implementar tu código. Entender cómo crear y ejecutar scripts es un paso esencial en tu camino para convertirte en un desarrollador Python competente.\n"
   ]
  },
  {
   "cell_type": "markdown",
   "id": "bdb946f2-4255-4a04-ba85-6a42952103d2",
   "metadata": {},
   "source": [
    "## 7. Guías de Estilo y Mejores Prácticas\n",
    "\n",
    "En la comunidad de Python, hay una serie de documentos conocidos como PEPs (Python Enhancement Proposals) que sirven como guías para el desarrollo y estilo de programación en Python. Algunos de estos PEPs son particularmente relevantes para escribir código claro y consistente:\n",
    "\n",
    "- **PEP 8:** La guía de estilo para el código Python. Define convenciones para nombrar variables, indentación, uso de espacios en blanco, etc. Es altamente recomendable adherirse a estas convenciones para mantener el código limpio y comprensible. [PEP 8 - Guía de Estilo](https://peps.python.org/pep-0008/)\n",
    "- **PEP 20:** Conocido como \"El Zen de Python\", ofrece 19 aforismos que capturan la filosofía y los principios de diseño del lenguaje. [PEP 20 - El Zen de Python](https://peps.python.org/pep-0020/)\n",
    "- **PEP 257:** Proporciona convenciones para escribir cadenas de documentación (docstrings) en Python. [PEP 257 - Convenciones de Docstring](https://peps.python.org/pep-0257/)\n",
    "\n",
    "El seguimiento de estas y otras guías PEP ayuda a mantener la coherencia en el código y facilita la colaboración con otros desarrolladores. Muchos IDEs y herramientas de análisis de código pueden ayudar en la aplicación de estas normas.\n"
   ]
  },
  {
   "cell_type": "markdown",
   "id": "7fac0efb-ef57-4d8d-8ee1-bf1de0c180c6",
   "metadata": {},
   "source": [
    "----\n",
    "\n",
    "## Ejercicios Propuestos\n",
    "\n",
    "Para afianzar el conocimiento adquirido, realiza las siguientes actividades:\n",
    "\n",
    "1. **Exploración de Python**:  \n",
    "   - Investiga y menciona tres áreas de aplicación donde Python es ampliamente utilizado.\n",
    "   - Averigua sobre alguna empresa reconocida que utilice Python como parte de sus herramientas de desarrollo y describe cómo lo utilizan.\n",
    "\n",
    "2. **Configuración Inicial**:\n",
    "   - Suponiendo que tienes una máquina nueva, redacta los pasos que seguirías para instalar Python y preparar tu entorno de desarrollo favorito.\n",
    "   - Prueba ejecutar un pequeño script desde la línea de comandos y documenta el proceso.\n",
    "\n",
    "3. **Buenas Prácticas**:\n",
    "   - Escoge tres reglas del PEP 8 y redacta ejemplos de código que muestren la diferencia entre seguir y no seguir esas reglas.\n",
    "   - Reflexiona sobre la importancia de mantener un estilo de código consistente y comparte tus conclusiones."
   ]
  }
 ],
 "metadata": {
  "kernelspec": {
   "display_name": "Python 3 (ipykernel)",
   "language": "python",
   "name": "python3"
  },
  "language_info": {
   "codemirror_mode": {
    "name": "ipython",
    "version": 3
   },
   "file_extension": ".py",
   "mimetype": "text/x-python",
   "name": "python",
   "nbconvert_exporter": "python",
   "pygments_lexer": "ipython3",
   "version": "3.11.5"
  }
 },
 "nbformat": 4,
 "nbformat_minor": 5
}
