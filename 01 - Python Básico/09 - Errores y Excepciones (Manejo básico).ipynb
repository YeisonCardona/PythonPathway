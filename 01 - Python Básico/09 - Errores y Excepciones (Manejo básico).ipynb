{
 "cells": [
  {
   "cell_type": "markdown",
   "id": "5ec24a9f-3f8c-46c6-b66f-c5311354f5a0",
   "metadata": {},
   "source": [
    "# Errores y Excepciones (Manejo básico)"
   ]
  },
  {
   "cell_type": "markdown",
   "id": "11d2249a-37e9-442d-b6de-fcc31c5538e3",
   "metadata": {},
   "source": [
    "## 1. Introducción\n",
    "En la programación, es inevitable encontrarse con errores. Estos pueden ser el resultado de datos inesperados, fallos en el código o circunstancias imprevistas. Python proporciona herramientas para manejar estos errores de manera elegante y, en este capítulo, aprenderemos cómo gestionarlos."
   ]
  },
  {
   "cell_type": "markdown",
   "id": "82f0aa89-21d9-4cf4-b451-150b2539b9d4",
   "metadata": {},
   "source": [
    "## 2. Errores comunes en Python\n",
    "Hay varios tipos de errores que pueden surgir cuando se programa en Python. Algunos de los más comunes son:\n",
    "- **NameError**: Ocurre cuando se utiliza una variable o función que no ha sido definida.\n",
    "- **TypeError**: Se produce cuando se realiza una operación en un tipo de dato inapropiado.\n",
    "- **ValueError**: Ocurre cuando una función recibe un argumento con un valor correcto pero inapropiado.\n",
    "- **ZeroDivisionError**: Como su nombre indica, ocurre cuando se intenta dividir por cero.\n",
    "\n",
    "Estos son solo ejemplos; hay muchos otros tipos de errores en Python."
   ]
  },
  {
   "cell_type": "markdown",
   "id": "d1579d5f-95ba-40fe-a003-e854be44b842",
   "metadata": {},
   "source": [
    "## 3. Excepciones en Python\n",
    "Las excepciones son errores detectados durante la ejecución del programa. Python maneja las excepciones con bloques de código: `try` y `except`.\n",
    "\n",
    "### Ejemplo básico:\n",
    "```python\n",
    "try:\n",
    "    resultado = 10/0\n",
    "except ZeroDivisionError:\n",
    "    print(\"No puedes dividir por cero!\")\n",
    "```"
   ]
  },
  {
   "cell_type": "markdown",
   "id": "fb418e4a-96f3-4755-8870-133c6d226ec4",
   "metadata": {},
   "source": [
    "## 4. Capturando múltiples excepciones\n",
    "Puedes capturar múltiples excepciones usando varios bloques `except`.\n",
    "\n",
    "```python\n",
    "try:\n",
    "    # código que puede lanzar varias excepciones\n",
    "except (TypeError, ValueError) as e:\n",
    "    print(f\"Ocurrió un error: {e}\")\n",
    "```"
   ]
  },
  {
   "cell_type": "markdown",
   "id": "f785a33c-4b49-4c41-ad59-4e588e8919f3",
   "metadata": {},
   "source": [
    "## 5. Bloque `else` en manejo de excepciones\n",
    "El bloque `else` se ejecuta cuando no se produce ninguna excepción en el bloque `try`.\n",
    "\n",
    "```python\n",
    "try:\n",
    "    # código que puede lanzar una excepción\n",
    "except ValueError:\n",
    "    print(\"Ocurrió un ValueError!\")\n",
    "else:\n",
    "    print(\"Todo funcionó correctamente!\")\n",
    "```"
   ]
  },
  {
   "cell_type": "markdown",
   "id": "ab462c2c-5011-403c-90b0-a71294cb5ea0",
   "metadata": {},
   "source": [
    "## 6. El bloque `finally`\n",
    "Se usa para garantizar que cierto código se ejecute, independientemente de si se lanzó o no una excepción.\n",
    "\n",
    "```python\n",
    "try:\n",
    "    # código que puede lanzar una excepción\n",
    "except ValueError:\n",
    "    print(\"Ocurrió un ValueError!\")\n",
    "finally:\n",
    "    print(\"Esto se ejecutará pase lo que pase.\")\n",
    "```"
   ]
  },
  {
   "cell_type": "markdown",
   "id": "888ae13a-4335-440a-a062-826a3ba81013",
   "metadata": {},
   "source": [
    "## 7. Lanzando excepciones\n",
    "Puedes lanzar tus propias excepciones con la palabra clave `raise`.\n",
    "\n",
    "```python\n",
    "x = -5\n",
    "if x < 0:\n",
    "    raise ValueError(\"No aceptamos valores negativos!\")\n",
    "```\n",
    "\n",
    "## 8. Creando tus propias excepciones\n",
    "Python te permite definir tus propias excepciones personalizadas heredando de la clase base `Exception`.\n",
    "\n",
    "```python\n",
    "class MiError(Exception):\n",
    "    pass\n",
    "\n",
    "raise MiError(\"Este es un error personalizado\")\n",
    "```"
   ]
  },
  {
   "cell_type": "markdown",
   "id": "da88b853-60a5-41de-8871-9f9be8988a95",
   "metadata": {},
   "source": [
    "## 9. Resumen\n",
    "- Los errores son problemas en el código que el programador debe corregir.\n",
    "- Las excepciones son eventos que pueden ocurrir durante la ejecución del programa y que el programador puede manejar.\n",
    "- Python proporciona bloques de código `try`, `except`, `else` y `finally` para manejar excepciones de manera efectiva.\n",
    "- Puedes lanzar tus propias excepciones y también definir excepciones personalizadas."
   ]
  },
  {
   "cell_type": "markdown",
   "id": "6b9b34bf-7a31-4d9d-93eb-09740a6fbb93",
   "metadata": {},
   "source": [
    "---- \n",
    "\n",
    "## Ejercicios Propuestos\n",
    "\n",
    "1. **Manejo Básico de Excepciones:**\n",
    "   - Escribe una función que tome dos números enteros y devuelva su división. La función debe capturar cualquier excepción que pueda surgir durante la división y mostrar un mensaje apropiado al usuario.\n",
    "   ```python\n",
    "   def dividir(a, b):\n",
    "       # Tu código aquí\n",
    "   ```\n",
    "\n",
    "2. **Capturando Múltiples Excepciones:**\n",
    "   - Escribe una función que tome una cadena y convierta la cadena a entero y luego a flotante. Captura las posibles excepciones que puedan surgir durante las conversiones.\n",
    "   ```python\n",
    "   def conversion(cadena):\n",
    "       # Tu código aquí\n",
    "   ```\n",
    "\n",
    "3. **Uso del Bloque `finally`:**\n",
    "   - Crea un bloque `try...except...finally` donde trates de abrir un archivo para escritura, escribas en él y, finalmente, en el bloque `finally`, cierras el archivo. Asegúrate de generar una excepción (por ejemplo, intentando escribir en un archivo abierto en modo lectura) para ver cómo se comporta el bloque `finally`.\n",
    "   \n",
    "4. **Lanzando Excepciones Personalizadas:**\n",
    "   - Define una excepción personalizada llamada `BajoValorError` que se lance cuando un valor es menor que 10. Luego, escribe una función que tome un número y lance esta excepción si el número es menor que 10.\n",
    "   ```python\n",
    "   class BajoValorError(Exception):\n",
    "       pass\n",
    "   \n",
    "   def verificar_valor(n):\n",
    "       # Tu código aquí\n",
    "   ```\n",
    "\n",
    "5. **Uso del Bloque `else` en Excepciones:**\n",
    "   - Escribe una función que pida al usuario que ingrese un número. Usa el bloque `else` para mostrar un mensaje indicando que el número fue ingresado correctamente si no se generan excepciones.\n"
   ]
  }
 ],
 "metadata": {
  "kernelspec": {
   "display_name": "Python 3 (ipykernel)",
   "language": "python",
   "name": "python3"
  },
  "language_info": {
   "codemirror_mode": {
    "name": "ipython",
    "version": 3
   },
   "file_extension": ".py",
   "mimetype": "text/x-python",
   "name": "python",
   "nbconvert_exporter": "python",
   "pygments_lexer": "ipython3",
   "version": "3.11.5"
  }
 },
 "nbformat": 4,
 "nbformat_minor": 5
}
