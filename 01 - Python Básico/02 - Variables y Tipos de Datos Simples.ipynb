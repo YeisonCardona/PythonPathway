{
 "cells": [
  {
   "cell_type": "markdown",
   "id": "80b6f606-411b-4769-b24f-c29a9d68a243",
   "metadata": {},
   "source": [
    "# Variables y Tipos de Datos Simples"
   ]
  },
  {
   "cell_type": "markdown",
   "id": "2be23726-ec5e-4e34-8eb1-7c04737ba285",
   "metadata": {},
   "source": [
    "## 1. Introducción\n",
    "\n",
    "Las variables son contenedores para almacenar valores de datos. Python tiene varios tipos de datos simples que incluyen números enteros, números de punto flotante, cadenas y booleanos. En este capítulo, exploraremos cómo declarar y usar estas variables y tipos de datos simples."
   ]
  },
  {
   "cell_type": "markdown",
   "id": "e5f39dbe-a6dd-4222-b157-56e933ca5a79",
   "metadata": {},
   "source": [
    "## 2. Variables\n",
    "\n",
    "Una variable se crea en el momento en que le asignas un valor.\n",
    "\n",
    "\n",
    "\n",
    "```python\n",
    "x = 5\n",
    "nombre = \"John\"\n",
    "```"
   ]
  },
  {
   "cell_type": "markdown",
   "id": "b6f1c482-24ff-4806-8692-be17c154cd19",
   "metadata": {},
   "source": [
    "## 3. Tipos de Datos Simples\n",
    "\n",
    "### Enteros\n",
    "\n",
    "Los enteros son números enteros positivos o negativos sin punto decimal. Además de la base decimal estándar, Python también permite representar enteros en bases hexadecimales, octales y binarias.\n",
    "\n",
    "\n",
    "\n",
    "```python\n",
    "x = 42             # Decimal\n",
    "y = -7             # Decimal\n",
    "hex_num = 0x2A     # Hexadecimal (base 16)\n",
    "oct_num = 0o52     # Octal (base 8)\n",
    "bin_num = 0b101010 # Binario (base 2)\n",
    "```\n",
    "\n",
    "### Números de Punto Flotante\n",
    "\n",
    "Los números de punto flotante son números que contienen un punto decimal.\n",
    "\n",
    "\n",
    "\n",
    "```python\n",
    "pi = 3.14159\n",
    "precio = 19.99\n",
    "```\n",
    "\n",
    "### Números Complejos\n",
    "\n",
    "Los números complejos se componen de una parte real y una parte imaginaria y se representan en Python utilizando la letra 'j' para la parte imaginaria.\n",
    "\n",
    "\n",
    "\n",
    "```python\n",
    "z1 = 5 + 3j\n",
    "z2 = 4 - 2j\n",
    "```\n",
    "\n",
    "### Cadenas\n",
    "\n",
    "Las cadenas son secuencias de caracteres y se definen usando comillas simples o dobles.\n",
    "\n",
    "\n",
    "\n",
    "```python\n",
    "nombre = \"John\"\n",
    "saludo = 'Hola, Mundo!'\n",
    "```\n",
    "\n",
    "### Booleanos\n",
    "\n",
    "Los booleanos representan uno de dos valores: Verdadero o Falso.\n",
    "\n",
    "\n",
    "\n",
    "```python\n",
    "verdadero = True\n",
    "falso = False\n",
    "```"
   ]
  },
  {
   "cell_type": "markdown",
   "id": "9c8d5fb5-0f8d-4bfe-b4d0-7938592e91c7",
   "metadata": {},
   "source": [
    "## 4. Tipado Dinámico vs Tipado No Dinámico\n",
    "\n",
    "En programación, el \"tipado\" se refiere a la asignación de un tipo de datos a una variable. Python utiliza tipado dinámico, lo cual significa que el tipo de una variable puede cambiar en tiempo de ejecución.\n",
    "\n",
    "### Tipado Dinámico\n",
    "\n",
    "En Python, no necesitas declarar el tipo de una variable cuando la creas. El intérprete de Python determinará automáticamente el tipo basándose en el valor asignado.\n",
    "\n",
    "\n",
    "\n",
    "```python\n",
    "x = 5       # x es un entero\n",
    "x = \"John\"  # Ahora x es una cadena\n",
    "```\n",
    "\n",
    "### Tipado No Dinámico\n",
    "\n",
    "A diferencia del tipado dinámico, algunos lenguajes requieren que declares el tipo de una variable en el momento de la creación, y ese tipo no puede cambiar. Esto se conoce como tipado estático o no dinámico.\n",
    "\n",
    "### Ejemplo en un lenguaje de tipado estático:\n",
    "\n",
    "```java\n",
    "int x = 5;  // x debe ser un entero\n",
    "```"
   ]
  },
  {
   "cell_type": "markdown",
   "id": "6fb8ab94-7a08-41ea-9173-13c53ce48923",
   "metadata": {},
   "source": [
    "<div style=\"padding: 15px; border: 1px solid transparent; border-color: transparent; margin-bottom: 20px; border-radius: 4px; color: #31708f; background-color: #d9edf7; border-color: #bce8f1;\">\n",
    "El tipado dinámico proporciona más flexibilidad y puede facilitar la escritura del código. Sin embargo, también puede llevar a errores que solo se detectan en tiempo de ejecución, mientras que el tipado estático puede ayudar a identificar errores en la etapa de compilación.\n",
    "</div>"
   ]
  },
  {
   "cell_type": "markdown",
   "id": "cbf4627b-58e4-4bb5-a10d-7266b25fceff",
   "metadata": {},
   "source": [
    "## 5. Conversión de Tipos\n",
    "\n",
    "Puedes convertir entre diferentes tipos de datos utilizando funciones como `int()`, `float()`, y `str()`.\n",
    "\n",
    "\n",
    "\n",
    "```python\n",
    "x = 5.5\n",
    "y = int(x)\n",
    "```"
   ]
  },
  {
   "cell_type": "markdown",
   "id": "7dbb4536-f159-42d7-bab9-815188c755be",
   "metadata": {},
   "source": [
    "## 6. Operaciones Básicas\n",
    "\n",
    "Puedes realizar operaciones matemáticas y de cadena básicas utilizando estos tipos de datos.\n",
    "\n",
    "\n",
    "\n",
    "```python\n",
    "suma = 5 + 3\n",
    "saludo = \"Hola, \" + \"Mundo!\"\n",
    "```"
   ]
  },
  {
   "cell_type": "markdown",
   "id": "c1123e62-1e68-4af5-a960-95b8643d5338",
   "metadata": {},
   "source": [
    "## 7. Identificando y Verificando Tipos de Datos\n",
    "\n",
    "Python proporciona funciones integradas como `type()` e `isinstance()` para identificar y verificar los tipos de datos de las variables.\n",
    "\n",
    "### `type()`\n",
    "\n",
    "La función `type()` se utiliza para obtener el tipo de un objeto.\n",
    "\n",
    "\n",
    "\n",
    "```python\n",
    "x = 42\n",
    "print(type(x))  # Salida: <class 'int'>\n",
    "```\n",
    "\n",
    "### `isinstance()`\n",
    "\n",
    "La función `isinstance()` se utiliza para verificar si un objeto es una instancia de un tipo particular o una tupla de tipos.\n",
    "\n",
    "\n",
    "\n",
    "```python\n",
    "x = 42\n",
    "print(isinstance(x, int))  # Salida: True\n",
    "print(isinstance(x, (int, float)))  # Salida: True\n",
    "```\n",
    "\n",
    "Estas funciones son útiles para comprobar y manejar diferentes tipos de datos en su código, especialmente cuando se trabaja con funciones que pueden aceptar múltiples tipos de entradas.\n"
   ]
  },
  {
   "cell_type": "markdown",
   "id": "bc5d0e41-9224-4037-bcf1-8eb43a498120",
   "metadata": {},
   "source": [
    "## 8. Resumen\n",
    "\n",
    "En este capítulo, hemos explorado los tipos de datos simples en Python, incluyendo:\n",
    "\n",
    "- **Enteros**: Representan números enteros y se pueden expresar en bases decimal, hexadecimal, octal y binaria.\n",
    "- **Números de Punto Flotante**: Representan números reales con una parte decimal.\n",
    "- **Números Complejos**: Compuestos por una parte real y una imaginaria.\n",
    "- **Cadenas**: Secuencias de caracteres.\n",
    "- **Booleanos**: Representan los valores Verdadero y Falso.\n",
    "\n",
    "También hemos introducido dos funciones importantes para trabajar con tipos de datos:\n",
    "\n",
    "- **`type()`**: Utilizada para obtener el tipo de un objeto.\n",
    "- **`isinstance()`**: Utilizada para verificar si un objeto es una instancia de un tipo o tupla de tipos particulares.\n",
    "\n",
    "Estos conceptos forman la base para trabajar con datos en Python y son esenciales para una programación efectiva y eficiente.\n"
   ]
  },
  {
   "cell_type": "markdown",
   "id": "b2ac6ae8-76c8-43a0-b038-c958f50db5b9",
   "metadata": {},
   "source": [
    "----\n",
    "\n",
    "## Ejercicios Propuestos\n",
    "\n",
    "Para afianzar el conocimiento adquirido en este capítulo, considera realizar las siguientes actividades:\n",
    "\n",
    "1. **Variables en la Práctica**:\n",
    "   - Crea una variable para cada tipo de dato simple presentado en el capítulo. Luego, imprime cada variable junto con su tipo utilizando la función `type()`.\n",
    "\n",
    "2. **Exploración de Tipado**:\n",
    "   - Genera un breve script que demuestre el tipado dinámico en Python, cambiando el tipo de una variable y mostrando los resultados.\n",
    "   - Investiga un lenguaje que utilice tipado no dinámico y compara su enfoque con el de Python. \n",
    "\n",
    "3. **Conversión de Tipos**:\n",
    "   - Crea un script donde ingreses una serie de números como cadenas de texto. Luego, convierte esas cadenas a números y calcula su suma.\n",
    "\n",
    "4. **Operaciones y Verificación**:\n",
    "   - Realiza operaciones básicas (suma, resta, multiplicación y división) entre diferentes tipos de datos simples y observa los resultados. ¿Qué sucede si divides un `int` por otro `int`? ¿Y si divides un `int` por un `float`?\n",
    "   - Utiliza la función `isinstance()` para verificar si una variable es de un tipo específico.\n",
    "\n",
    "5. **Reflexión sobre Buenas Prácticas**:\n",
    "   - Considerando las guías de estilo presentadas en capítulos anteriores, revisa tu código de ejercicios anteriores y asegúrate de que cumpla con las recomendaciones del PEP 8."
   ]
  }
 ],
 "metadata": {
  "kernelspec": {
   "display_name": "Python 3 (ipykernel)",
   "language": "python",
   "name": "python3"
  },
  "language_info": {
   "codemirror_mode": {
    "name": "ipython",
    "version": 3
   },
   "file_extension": ".py",
   "mimetype": "text/x-python",
   "name": "python",
   "nbconvert_exporter": "python",
   "pygments_lexer": "ipython3",
   "version": "3.11.5"
  }
 },
 "nbformat": 4,
 "nbformat_minor": 5
}
